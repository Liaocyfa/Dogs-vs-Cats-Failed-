{
 "cells": [
  {
   "cell_type": "code",
   "execution_count": null,
   "id": "8c90f5a7-e633-4251-b43c-ba46fcf73856",
   "metadata": {},
   "outputs": [],
   "source": [
    "! pip install tflearn\n",
    "conda install pillow\n",
    "! pip install -u --no-deps tflearn\n",
    "! pip install tensorflow==1.14"
   ]
  },
  {
   "cell_type": "code",
   "execution_count": null,
   "id": "1230b5b3-fb96-4641-86aa-421c16b0cada",
   "metadata": {},
   "outputs": [],
   "source": [
    "import cv2\n",
    "import numpy as np\n",
    "import os         \n",
    "from random import shuffle \n",
    "from tqdm import tqdm      \n",
    "import tensorflow as tf\n",
    "import matplotlib.pyplot as plt\n",
    "%matplotlib inline\n",
    "TRAIN_DIR = 'C:/train'\n",
    "TEST_DIR = 'C:/test'\n",
    "IMG_SIZE = 50\n",
    "LR = 1e-3\n",
    "MODEL_NAME = 'dogs-vs-cats-convnet'"
   ]
  },
  {
   "cell_type": "code",
   "execution_count": null,
   "id": "7c3acf6a-aebe-4807-abb0-6e347b0152ff",
   "metadata": {},
   "outputs": [],
   "source": [
    "def label_img(img):\n",
    "    word_label = img.split('.')[-3]\n",
    "    if word_label == 'cat':return [1,0]\n",
    "    elif word_label == 'dog':return [0,1]"
   ]
  },
  {
   "cell_type": "code",
   "execution_count": null,
   "id": "c7822cb3-6fa8-4bea-b7dc-3a3d8f5dd75d",
   "metadata": {},
   "outputs": [],
   "source": [
    "def create_train_data():\n",
    "    training_data = []\n",
    "    for img in tqdm(os.listdir(TRAIN_DIR)):\n",
    "        label=label_img(img)\n",
    "        path = os.path.join(TRAIN_DIR, img)\n",
    "        img= cv2.resize(cv2.imread(path, cv2.IMREAD_GRAYSCALE),(IMG_SIZE, IMG_SIZE))\n",
    "        training_data.append([np.array(img), create_np.array(label)])\n",
    "    shuffle(training_data)\n",
    "    np.save('train_data.npy', training_data)\n",
    "    return training_data\n",
    "def create_test_data():\n",
    "    testing_data = []\n",
    "    for img in tqdm(os.listdir(TEST_DIR)):\n",
    "        path = os.path.join(TEST_DIR,img)\n",
    "        img_num = img.split('.')[0]\n",
    "        img = cv2.resize(cv2.imread(path, cv2.IMREAD_GRAYSCALE),(IMG_SIZE, IMG_SIZE))\n",
    "        testing_data.append([np.array(img),img_num])\n",
    "    shuffle(testing_data)\n",
    "    np.save('test_data.npy', testing_data)\n",
    "    return testing_data"
   ]
  },
  {
   "cell_type": "code",
   "execution_count": null,
   "id": "5c317131-aac5-49fd-995c-8d465176a70c",
   "metadata": {},
   "outputs": [],
   "source": [
    "train_data = create_train_data()\n",
    "test_data = create_test_data()"
   ]
  },
  {
   "cell_type": "code",
   "execution_count": null,
   "id": "64b110b8-08bd-4307-9bd7-41fa1d0522b7",
   "metadata": {},
   "outputs": [],
   "source": [
    "import tflearn\n",
    "from tflearn.layers.conv import conv_2d, max_pool_2d\n",
    "from tflearn.layers.core import input_data, dropout, fully_connected\n",
    "from tflearn.layers.estimator import regression"
   ]
  },
  {
   "cell_type": "code",
   "execution_count": null,
   "id": "5c053ae4-e10e-4f30-aa9a-3b248d0dae43",
   "metadata": {},
   "outputs": [],
   "source": [
    "convnet = input_data(shape=[None, IMG_SIZE, IMG_SIZE, 1], name='input')\n",
    "convnet = conv_2d(convnet, 32, 5, activation='relu')\n",
    "convnet = max_pool_2d(convnet, 5)\n",
    "convnet = conv_2d(convnet, 64, 5, activation='relu')\n",
    "convnet = max_pool_2d(convnet, 5)\n",
    "convnet = conv_2d(convnet, 128, 5, activation='relu')\n",
    "convnet = max_pool_2d(convnet, 5)\n",
    "convnet = conv_2d(convnet, 64, 5, activation='relu')\n",
    "convnet = max_pool_2d(convnet, 5)\n",
    "convnet = conv_2d(convnet, 32, 5, activation='relu')\n",
    "convnet = max_pool_2d(convnet, 5)\n",
    "convnet = fully_connected(convnet, 1024, activation='relu')\n",
    "convnet = dropout(convnet, 0.8)\n",
    "convnet = fully_connected(convnet, 2, activation='softmax')\n",
    "convnet = regression(convnet, optimizer='adam', learning_rate=LR, loss='categorical_crossentropy', name='targets')\n",
    "model = tflearn.DNN(convnet, tensorboard_dir='log', tensorboard_verbose=0)\n",
    "\n",
    "model.fit({'input': X_train}, {'targets': y_train}, n_epoch=10, \n",
    "          validation_set=({'input': X_test}, {'targets': y_test}), \n",
    "          snapshot_step=500, show_metric=True, run_id=MODEL_NAME)"
   ]
  },
  {
   "cell_type": "code",
   "execution_count": null,
   "id": "dfd5851e-091a-4d16-9f67-778930c26731",
   "metadata": {},
   "outputs": [],
   "source": [
    "if os.path.exists('{}.meta'.format(MODEL_NAME)):\n",
    "    model.load(MODEL_NAME)\n",
    "    print('model loaded!')"
   ]
  },
  {
   "cell_type": "code",
   "execution_count": null,
   "id": "24cd7a9d-8016-4b41-a555-4464b90c685e",
   "metadata": {},
   "outputs": [],
   "source": [
    "train = train_data[:-50]\n",
    "test = train_data[-50:]\n",
    "X = np.array([i[0] for i in train]).reshape(-1, IMG_SIZE, IMG_SIZE, 1)\n",
    "Y = [i[1] for i in train]\n",
    "test_x = np.array([i[0] for i in test]).reshape(-1, IMG_SIZE, IMG_SIZE, 1)\n",
    "test_y = [i[1] for i in test]\n",
    "model.fit({'input':X},{'targets':Y},n_epoch=5,\n",
    "          validation_set=({'input':test_x},{'targets':test_y}),\n",
    "          snapshot_step=500,show_metric=True,run_id=MODEL_NAME)\n",
    "model.save(MODEL_NAME)"
   ]
  },
  {
   "cell_type": "code",
   "execution_count": null,
   "id": "8d83b770-804b-47a2-bbbf-31e4d2b30370",
   "metadata": {},
   "outputs": [],
   "source": [
    "d = test_data[0]\n",
    "img_data, img_num = d\n",
    "data = img_data.reshape(IMG_SIZE, IMG_SIZE, 1)\n",
    "prediction = model.predict([data])[0]\n",
    "fig = plt.figure(figsize=(6, 6))\n",
    "ax = fig.add_subplot(111)\n",
    "ax.imshow(img_data, cmap=\"gray\")\n",
    "print('Cat Possibility: {5.2f}%\\nDog Possibility: {5.2f}%'.format(prediction[0]*100,prediction[1]*100))"
   ]
  },
  {
   "cell_type": "code",
   "execution_count": null,
   "id": "37861818-6935-4b9f-8c19-4ea075707a2a",
   "metadata": {},
   "outputs": [],
   "source": [
    "fig=plt.figure(figsize=(16, 12))\n",
    "for num, data in enumerate(test_data[:16]):\n",
    "    img_num = data[1]\n",
    "    img_data = data[0]\n",
    "    y = fig.add_subplot(4, 4, num+1)\n",
    "    orig = img_data\n",
    "    data = img_data.reshape(IMG_SIZE, IMG_SIZE, 1)\n",
    "    model_out = model.predict([data])[0]\n",
    "    if np.argmax(model_out) == 1: \n",
    "        str_label='Dog'\n",
    "    else:\n",
    "        str_label='Cat'\n",
    "    y.imshow(orig, cmap='gray')\n",
    "    plt.title(str_label)\n",
    "    y.axes.get_xaxis().set_visible(False)\n",
    "    y.axes.get_yaxis().set_visible(False)\n",
    "plt.show()"
   ]
  },
  {
   "cell_type": "code",
   "execution_count": null,
   "id": "a2a360ad-6e63-44b7-8c9a-4b6e9011beb4",
   "metadata": {},
   "outputs": [],
   "source": []
  }
 ],
 "metadata": {
  "kernelspec": {
   "display_name": "Python 3 (ipykernel)",
   "language": "python",
   "name": "python3"
  },
  "language_info": {
   "codemirror_mode": {
    "name": "ipython",
    "version": 3
   },
   "file_extension": ".py",
   "mimetype": "text/x-python",
   "name": "python",
   "nbconvert_exporter": "python",
   "pygments_lexer": "ipython3",
   "version": "3.11.7"
  }
 },
 "nbformat": 4,
 "nbformat_minor": 5
}
